{
 "cells": [
  {
   "cell_type": "markdown",
   "id": "0d52dc9c-3bb7-4642-816f-0c99030dae48",
   "metadata": {},
   "source": [
    "# Introduction to automatic differentiation"
   ]
  },
  {
   "cell_type": "markdown",
   "id": "98a31923-a925-45db-a5d8-7072f5b4b560",
   "metadata": {},
   "source": [
    "## Setup"
   ]
  },
  {
   "cell_type": "code",
   "execution_count": 49,
   "id": "207d1cef-9bd8-4d57-8971-f5f6581826eb",
   "metadata": {},
   "outputs": [],
   "source": [
    "import matplotlib.pyplot as plt\n",
    "import numpy as np\n",
    "import tensorflow as tf\n",
    "%matplotlib inline\n",
    "\n",
    "%config InlineBackend.figure_format = \"retina\""
   ]
  },
  {
   "cell_type": "markdown",
   "id": "70976938-3ccc-4301-8a00-e921d340ac90",
   "metadata": {},
   "source": [
    "## Gradient tapes"
   ]
  },
  {
   "cell_type": "markdown",
   "id": "e18234f2-c0e6-4552-91e2-f0ebcadc6aff",
   "metadata": {},
   "source": [
    "Tensorflow uses a concept of a *gradient tape* which is an object that records operations during *forward pass* and then can be used to do differentiation using *backward pass*."
   ]
  },
  {
   "cell_type": "code",
   "execution_count": 2,
   "id": "29747f9b-2079-4ec6-899a-9215d3ac415d",
   "metadata": {},
   "outputs": [
    {
     "name": "stdout",
     "output_type": "stream",
     "text": [
      "6.0\n"
     ]
    },
    {
     "name": "stderr",
     "output_type": "stream",
     "text": [
      "2021-09-09 12:19:37.795415: I tensorflow/core/platform/cpu_feature_guard.cc:142] This TensorFlow binary is optimized with oneAPI Deep Neural Network Library (oneDNN) to use the following CPU instructions in performance-critical operations:  AVX2 FMA\n",
      "To enable them in other operations, rebuild TensorFlow with the appropriate compiler flags.\n"
     ]
    }
   ],
   "source": [
    "x = tf.Variable(3.0)\n",
    "\n",
    "with tf.GradientTape() as tape:\n",
    "    y = x**2\n",
    "    \n",
    "dy_dx = tape.gradient(y, x)\n",
    "\n",
    "print(dy_dx.numpy())"
   ]
  },
  {
   "cell_type": "markdown",
   "id": "2601851b-902f-4c1a-86d4-e3409a09506e",
   "metadata": {},
   "source": [
    "Now let's try it on vectors and matrices:"
   ]
  },
  {
   "cell_type": "code",
   "execution_count": 3,
   "id": "5070f187-fffc-4eea-9b07-f7689a5a3940",
   "metadata": {},
   "outputs": [],
   "source": [
    "w = tf.Variable(tf.random.normal((3, 2)), name=\"w\")\n",
    "b = tf.Variable(tf.zeros(2, dtype=tf.float32), name=\"b\")\n",
    "\n",
    "x = [[1.0, 2.0, 3.0]]\n",
    "\n",
    "with tf.GradientTape(persistent=True) as tape:\n",
    "    y = x @ w + b\n",
    "    loss = tf.reduce_mean(y**2)\n",
    "    \n",
    "dloss_dw, dloss_db = tape.gradient(loss, [w, b])"
   ]
  },
  {
   "cell_type": "code",
   "execution_count": 4,
   "id": "84df16e5-f1b0-47a2-8e13-e1edd1b2aaca",
   "metadata": {},
   "outputs": [
    {
     "data": {
      "text/plain": [
       "TensorShape([3, 2])"
      ]
     },
     "execution_count": 4,
     "metadata": {},
     "output_type": "execute_result"
    }
   ],
   "source": [
    "dloss_dw.shape"
   ]
  },
  {
   "cell_type": "code",
   "execution_count": 5,
   "id": "e61c18d5-8706-4777-b909-f5c3832e7d0e",
   "metadata": {},
   "outputs": [
    {
     "data": {
      "text/plain": [
       "TensorShape([2])"
      ]
     },
     "execution_count": 5,
     "metadata": {},
     "output_type": "execute_result"
    }
   ],
   "source": [
    "dloss_db.shape"
   ]
  },
  {
   "cell_type": "code",
   "execution_count": 6,
   "id": "3c6f2b15-2dbd-4101-9558-de2452954a55",
   "metadata": {},
   "outputs": [
    {
     "data": {
      "text/plain": [
       "<tf.Tensor: shape=(2,), dtype=float32, numpy=array([-2.5676599, -4.197275 ], dtype=float32)>"
      ]
     },
     "execution_count": 6,
     "metadata": {},
     "output_type": "execute_result"
    }
   ],
   "source": [
    "dloss_db"
   ]
  },
  {
   "cell_type": "code",
   "execution_count": 7,
   "id": "46c7d4b9-9e1a-46f2-903d-37e00146ff62",
   "metadata": {},
   "outputs": [
    {
     "data": {
      "text/plain": [
       "array([[ -2.5676599,  -4.197275 ],\n",
       "       [ -5.1353197,  -8.39455  ],\n",
       "       [ -7.7029796, -12.5918255]], dtype=float32)"
      ]
     },
     "execution_count": 7,
     "metadata": {},
     "output_type": "execute_result"
    }
   ],
   "source": [
    "dloss_dw.numpy()"
   ]
  },
  {
   "cell_type": "code",
   "execution_count": 8,
   "id": "2d1f1173-090a-454b-8bd3-20e523124836",
   "metadata": {},
   "outputs": [
    {
     "data": {
      "text/plain": [
       "TensorShape([1, 2])"
      ]
     },
     "execution_count": 8,
     "metadata": {},
     "output_type": "execute_result"
    }
   ],
   "source": [
    "y.shape"
   ]
  },
  {
   "cell_type": "code",
   "execution_count": 9,
   "id": "fba1e367-18b5-4d62-8344-e34140ba7aad",
   "metadata": {},
   "outputs": [
    {
     "data": {
      "text/plain": [
       "<tf.Tensor: shape=(1, 2), dtype=float32, numpy=array([[-2.5676599, -4.197275 ]], dtype=float32)>"
      ]
     },
     "execution_count": 9,
     "metadata": {},
     "output_type": "execute_result"
    }
   ],
   "source": [
    "y"
   ]
  },
  {
   "cell_type": "markdown",
   "id": "6874f42c-e829-40a2-8b9c-126b7fa55a55",
   "metadata": {},
   "source": [
    "It is possible to compute the gradients and put them in a dictionary this way:"
   ]
  },
  {
   "cell_type": "code",
   "execution_count": 10,
   "id": "c0d0a74e-a1da-4f69-b4e2-f2d827f9b26d",
   "metadata": {},
   "outputs": [],
   "source": [
    "grad_dict = tape.gradient(loss, {\"w\": w, \"b\": b})"
   ]
  },
  {
   "cell_type": "code",
   "execution_count": 11,
   "id": "97b45cf5-7185-4b97-a023-eaf0c4118511",
   "metadata": {},
   "outputs": [
    {
     "data": {
      "text/plain": [
       "{'w': <tf.Tensor: shape=(3, 2), dtype=float32, numpy=\n",
       " array([[ -2.5676599,  -4.197275 ],\n",
       "        [ -5.1353197,  -8.39455  ],\n",
       "        [ -7.7029796, -12.5918255]], dtype=float32)>,\n",
       " 'b': <tf.Tensor: shape=(2,), dtype=float32, numpy=array([-2.5676599, -4.197275 ], dtype=float32)>}"
      ]
     },
     "execution_count": 11,
     "metadata": {},
     "output_type": "execute_result"
    }
   ],
   "source": [
    "grad_dict"
   ]
  },
  {
   "cell_type": "markdown",
   "id": "f0c30efb-89c4-4f00-ae0f-f16e9e5af65c",
   "metadata": {},
   "source": [
    "## Gradients with respect to model"
   ]
  },
  {
   "cell_type": "markdown",
   "id": "2ff287ce-63eb-46d7-8b5a-49639b712e55",
   "metadata": {},
   "source": [
    "Layers and models in Keras are subclasses of `Module` class. The instances of this class collect all their `tf.Variable`s into a special property `trainable_variables`. You can use this property to take the gradient wrt to all of these variables:"
   ]
  },
  {
   "cell_type": "code",
   "execution_count": 14,
   "id": "bfe92c69-e992-4e11-9a09-7c63f331341b",
   "metadata": {},
   "outputs": [
    {
     "name": "stdout",
     "output_type": "stream",
     "text": [
      "my-dense-layer/kernel:0, shape: (3, 2)\n",
      "my-dense-layer/bias:0, shape: (2,)\n"
     ]
    }
   ],
   "source": [
    "layer = tf.keras.layers.Dense(2, activation=\"relu\", name=\"my-dense-layer\")\n",
    "x = tf.constant([[1.0, 2.0, 3.0]])\n",
    "\n",
    "with tf.GradientTape() as tape:\n",
    "    y = layer(x)\n",
    "    loss = tf.reduce_mean(y**2)\n",
    "    \n",
    "grad = tape.gradient(loss, layer.trainable_variables)\n",
    "\n",
    "for var, g in zip(layer.trainable_variables, grad):\n",
    "    print(f\"{var.name}, shape: {g.shape}\")"
   ]
  },
  {
   "cell_type": "markdown",
   "id": "2f276ff0-936f-48ec-b66d-fe31b4101250",
   "metadata": {},
   "source": [
    "## Control of what tape watches"
   ]
  },
  {
   "cell_type": "markdown",
   "id": "b3e22a5e-8925-412c-833e-9fcfc193ef9e",
   "metadata": {},
   "source": [
    "Gradient tape records operations with trainable `tf.Variable`s. If an operation is computed using non-trainable variables, then the computation of the gradient will fail:"
   ]
  },
  {
   "cell_type": "code",
   "execution_count": 16,
   "id": "24b0b1c9-7dd4-4112-ba77-6bd184dff712",
   "metadata": {},
   "outputs": [
    {
     "name": "stdout",
     "output_type": "stream",
     "text": [
      "tf.Tensor(6.0, shape=(), dtype=float32)\n",
      "None\n",
      "None\n",
      "None\n"
     ]
    }
   ],
   "source": [
    "# A trainable variable.\n",
    "x0 = tf.Variable(3.0, name=\"x0\")\n",
    "# Not trainable.\n",
    "x1 = tf.Variable(3.0, name=\"x1\", trainable=False)\n",
    "# Not a variable: a variable plus a tensor returns a tensor.\n",
    "x2 = tf.Variable(2.0, name=\"x2\") + 1.0\n",
    "# Not a variable.\n",
    "x3 = tf.constant(3.0, name=\"x3\")\n",
    "\n",
    "with tf.GradientTape() as tape:\n",
    "    y = (x0**2) + (x1**2) + (x2**2)\n",
    "    \n",
    "grad = tape.gradient(y, [x0, x1, x2, x3])\n",
    "\n",
    "for g in grad:\n",
    "    print(g)"
   ]
  },
  {
   "cell_type": "code",
   "execution_count": 18,
   "id": "f359df79-ad72-4c1f-9423-9bbd9362162a",
   "metadata": {},
   "outputs": [
    {
     "data": {
      "text/plain": [
       "['x0:0']"
      ]
     },
     "execution_count": 18,
     "metadata": {},
     "output_type": "execute_result"
    }
   ],
   "source": [
    "[var.name for var in tape.watched_variables()]"
   ]
  },
  {
   "cell_type": "code",
   "execution_count": 19,
   "id": "42b6cd2b-ad34-4780-b72e-ff9c8268258d",
   "metadata": {},
   "outputs": [
    {
     "ename": "AttributeError",
     "evalue": "'GradientTape' object has no attribute 'persistent'",
     "output_type": "error",
     "traceback": [
      "\u001b[0;31m---------------------------------------------------------------------------\u001b[0m",
      "\u001b[0;31mAttributeError\u001b[0m                            Traceback (most recent call last)",
      "\u001b[0;32m/var/folders/qv/bqrbht6n6q3dhq0503j2ly_w0000gp/T/ipykernel_76515/163033470.py\u001b[0m in \u001b[0;36m<module>\u001b[0;34m\u001b[0m\n\u001b[0;32m----> 1\u001b[0;31m \u001b[0mtape\u001b[0m\u001b[0;34m.\u001b[0m\u001b[0mpersistent\u001b[0m\u001b[0;34m\u001b[0m\u001b[0;34m\u001b[0m\u001b[0m\n\u001b[0m",
      "\u001b[0;31mAttributeError\u001b[0m: 'GradientTape' object has no attribute 'persistent'"
     ]
    }
   ],
   "source": [
    "tape.persistent"
   ]
  },
  {
   "cell_type": "markdown",
   "id": "1edc04e4-f9f4-44a5-9806-bbaab5007982",
   "metadata": {},
   "source": [
    "To record gradients with respect to non-trainable variables, for example, `tf.Tensor`s, you can use `watch` method to explicitly enable recording:"
   ]
  },
  {
   "cell_type": "code",
   "execution_count": 21,
   "id": "3f29d7b6-ffa4-4bd3-8207-4ed52d8e4dd2",
   "metadata": {},
   "outputs": [
    {
     "name": "stdout",
     "output_type": "stream",
     "text": [
      "dy_dx: 108.0\n"
     ]
    }
   ],
   "source": [
    "x = tf.constant(3.0)\n",
    "with tf.GradientTape() as tape:\n",
    "    tape.watch(x)\n",
    "    y = x**4\n",
    "    \n",
    "dy_dx = tape.gradient(y, x)\n",
    "print(f\"dy_dx: {dy_dx.numpy()}\")"
   ]
  },
  {
   "cell_type": "markdown",
   "id": "4835541d-b1ab-4939-9a99-9291f9122fe7",
   "metadata": {},
   "source": [
    "You can explicitly disable watching all trainable variables with parameter `watch_accessed_variables=False`. Then only explicitly watched variables will have gradient:"
   ]
  },
  {
   "cell_type": "code",
   "execution_count": 25,
   "id": "2d998294-6ed2-47b4-aedd-af99bd89206d",
   "metadata": {},
   "outputs": [
    {
     "name": "stdout",
     "output_type": "stream",
     "text": [
      "dy_dx0:  None\n",
      "dy_dx1:  0.9999546\n"
     ]
    }
   ],
   "source": [
    "x0 = tf.Variable(0.0)\n",
    "x1 = tf.Variable(10.0)\n",
    "\n",
    "with tf.GradientTape(watch_accessed_variables=False) as tape:\n",
    "    tape.watch(x1)  # Explicitly set it to being recorded.\n",
    "    y0 = tf.math.sin(x0)\n",
    "    y1 = tf.nn.softplus(x1)\n",
    "    y = y0 + y1\n",
    "    ys = tf.reduce_sum(y)\n",
    "    \n",
    "grad = tape.gradient(ys, {\"x0\": x0, \"x1\": x1})\n",
    "print(\"dy_dx0: \", grad[\"x0\"])\n",
    "print(\"dy_dx1: \", grad[\"x1\"].numpy())"
   ]
  },
  {
   "cell_type": "markdown",
   "id": "0e2cd50c-29ac-4083-9ef3-7dde2a9b0058",
   "metadata": {},
   "source": [
    "## Intermediate results"
   ]
  },
  {
   "cell_type": "markdown",
   "id": "4c0ff7d7-666f-4c49-98de-dfa7fe27dc88",
   "metadata": {},
   "source": [
    "It is possible to compute gradients with respect to intermediate variables:"
   ]
  },
  {
   "cell_type": "code",
   "execution_count": 26,
   "id": "bb6be0d2-c173-442f-bfa1-c9eb18cb173e",
   "metadata": {},
   "outputs": [
    {
     "name": "stdout",
     "output_type": "stream",
     "text": [
      "18.0\n"
     ]
    }
   ],
   "source": [
    "x = tf.constant(3.0)\n",
    "\n",
    "with tf.GradientTape() as tape:\n",
    "    tape.watch(x)\n",
    "    y = x * x\n",
    "    z = y * y\n",
    "    \n",
    "# compute the gradient dz_dy = 2*y=2*x**2 = 2 * 3**2 = 18.\n",
    "print(tape.gradient(z, y).numpy())"
   ]
  },
  {
   "cell_type": "markdown",
   "id": "c6476dad-b51c-4413-93cc-503672f23220",
   "metadata": {},
   "source": [
    "To be able to compute multiple gradients from the same tape, use `persistent=True`:"
   ]
  },
  {
   "cell_type": "code",
   "execution_count": 29,
   "id": "7d4d7cc3-939b-44bb-affd-a0c27628c079",
   "metadata": {},
   "outputs": [
    {
     "name": "stdout",
     "output_type": "stream",
     "text": [
      "[ 2. 18.]\n",
      "[  4. 108.]\n",
      "[2. 6.]\n"
     ]
    }
   ],
   "source": [
    "x = tf.constant([1.0, 3.0])\n",
    "\n",
    "with tf.GradientTape(persistent=True) as tape:\n",
    "    tape.watch(x)\n",
    "    y = x**2\n",
    "    z = y**2\n",
    "    \n",
    "print(tape.gradient(z, y).numpy())  # 2*y = 2 * x**2 = [2, 18]\n",
    "print(tape.gradient(z, x).numpy())  # [4, 108] (4 * x**3 at x = [1, 3])\n",
    "print(tape.gradient(y, x).numpy())  # [2, 6] (2 * x at x = [1, 3])"
   ]
  },
  {
   "cell_type": "markdown",
   "id": "03949ae2-1b72-4412-a2b3-412608ea0837",
   "metadata": {},
   "source": [
    "You need to explicitly delete tape now as it is persistent:"
   ]
  },
  {
   "cell_type": "code",
   "execution_count": 30,
   "id": "d42832fc-9986-4f2e-bfc2-82135c6185be",
   "metadata": {},
   "outputs": [],
   "source": [
    "del tape"
   ]
  },
  {
   "cell_type": "markdown",
   "id": "5d69230e-86b9-4fa6-9e34-89b75fdb73e8",
   "metadata": {},
   "source": [
    "## Gradients of non-scalar targets"
   ]
  },
  {
   "cell_type": "markdown",
   "id": "145c0426-475a-4631-8af7-992f94905231",
   "metadata": {},
   "source": [
    "If targets are not scalars, then the sum of the gradients is calculated, as the main use case for the gradient computation is to compute the gradient with respect to loss:"
   ]
  },
  {
   "cell_type": "code",
   "execution_count": 31,
   "id": "3d81bdde-7937-489a-826c-4d10b8fa7ca6",
   "metadata": {},
   "outputs": [],
   "source": [
    "x = tf.Variable(2.0)\n",
    "\n",
    "with tf.GradientTape() as tape:\n",
    "    y = [3.0, 4.0] * x"
   ]
  },
  {
   "cell_type": "code",
   "execution_count": 32,
   "id": "898141a8-11db-4a5c-8845-dc9eeb67eba5",
   "metadata": {},
   "outputs": [
    {
     "data": {
      "text/plain": [
       "<tf.Tensor: shape=(2,), dtype=float32, numpy=array([6., 8.], dtype=float32)>"
      ]
     },
     "execution_count": 32,
     "metadata": {},
     "output_type": "execute_result"
    }
   ],
   "source": [
    "y"
   ]
  },
  {
   "cell_type": "code",
   "execution_count": 33,
   "id": "79ecd7a2-c62f-4601-8ce4-8cbbe4a1cb7f",
   "metadata": {},
   "outputs": [
    {
     "data": {
      "text/plain": [
       "7.0"
      ]
     },
     "execution_count": 33,
     "metadata": {},
     "output_type": "execute_result"
    }
   ],
   "source": [
    "tape.gradient(y, x).numpy()"
   ]
  },
  {
   "cell_type": "markdown",
   "id": "936853c2-e042-4f85-a3d6-70206de68296",
   "metadata": {},
   "source": [
    "When computing the gradients for independent non-scalar targets, that is, when each target depends only on a corresponding input variable, then the gradient is computed correctly, as gradient components of all terms vaanish except only one:"
   ]
  },
  {
   "cell_type": "code",
   "execution_count": 55,
   "id": "7e1251f7-1286-427c-825d-feadc43fc0bc",
   "metadata": {},
   "outputs": [
    {
     "data": {
      "image/png": "[encoded data removed]",
      "text/plain": [
       "<Figure size 432x288 with 1 Axes>"
      ]
     },
     "metadata": {
      "image/png": {
       "height": 297,
       "width": 444
      },
      "needs_background": "light"
     },
     "output_type": "display_data"
    }
   ],
   "source": [
    "x = tf.linspace(-3, 3, num=101)\n",
    "\n",
    "with tf.GradientTape() as tape:\n",
    "    tape.watch(x)\n",
    "    y = tf.nn.sigmoid(x)\n",
    "    \n",
    "dy_dx = tape.gradient(y, x)\n",
    "\n",
    "plt.figure()\n",
    "plt.plot(x, y, \"-\", label=\"Sigmoid function\")\n",
    "plt.plot(x, dy_dx, \"--\", label=\"Sigmoid's derivative\")\n",
    "plt.xlabel(\"x\")\n",
    "plt.legend(loc=\"best\")\n",
    "plt.tight_layout(pad=0.1)"
   ]
  },
  {
   "cell_type": "markdown",
   "id": "172e604b-682b-4620-80cd-44f0dc514365",
   "metadata": {},
   "source": [
    "## Control flow"
   ]
  },
  {
   "cell_type": "markdown",
   "id": "27b2ab64-d8bc-4a53-a9df-4ea45ac70c2e",
   "metadata": {},
   "source": [
    "Gradient tape can handle control flow operations, like `if` or `while`."
   ]
  },
  {
   "cell_type": "code",
   "execution_count": 56,
   "id": "90b2b771-fee8-4a4d-8efa-397c59f44040",
   "metadata": {},
   "outputs": [
    {
     "name": "stdout",
     "output_type": "stream",
     "text": [
      "tf.Tensor(1.0, shape=(), dtype=float32)\n",
      "None\n"
     ]
    }
   ],
   "source": [
    "x = tf.constant(1.0)\n",
    "\n",
    "v0 = tf.Variable(2.0)\n",
    "v1 = tf.Variable(2.0)\n",
    "\n",
    "with tf.GradientTape() as tape:\n",
    "    tape.watch(x)\n",
    "    \n",
    "    if x > 0:\n",
    "        result = v0\n",
    "    else:\n",
    "        result = v1**2\n",
    "        \n",
    "dv0, dv1 = tape.gradient(result, [v0, v1])\n",
    "print(dv0)\n",
    "print(dv1)"
   ]
  },
  {
   "cell_type": "markdown",
   "id": "928d5980-25c8-4b3a-8a3b-cfaf9adc6bcc",
   "metadata": {},
   "source": [
    "## Dealing with `None` gradients"
   ]
  },
  {
   "cell_type": "markdown",
   "id": "664408b7-b171-4727-b785-79bbcb90b7e2",
   "metadata": {},
   "source": [
    "When the target variable does not depend on the source variable, the resulting gradient is `None`."
   ]
  },
  {
   "cell_type": "code",
   "execution_count": 57,
   "id": "c3094f02-5f2b-4884-9555-4b94496c7b35",
   "metadata": {},
   "outputs": [
    {
     "name": "stdout",
     "output_type": "stream",
     "text": [
      "None\n"
     ]
    }
   ],
   "source": [
    "x = tf.Variable(2.0)\n",
    "y = tf.Variable(3.0)\n",
    "\n",
    "with tf.GradientTape() as tape:\n",
    "    z = y * y\n",
    "\n",
    "print(tape.gradient(z, x))"
   ]
  },
  {
   "cell_type": "markdown",
   "id": "22e3b7b4-d27f-4d7b-8268-10d09105b630",
   "metadata": {},
   "source": [
    "There are other situations, when gradient is `None`, due to bugs."
   ]
  },
  {
   "cell_type": "markdown",
   "id": "f99993e7-3214-4db9-8f6c-9c0db0a43d11",
   "metadata": {},
   "source": [
    "### Using `Tensor` instead of `Variable`"
   ]
  },
  {
   "cell_type": "markdown",
   "id": "ebc6faff-92a9-4e21-ac7d-86dd3df336b9",
   "metadata": {},
   "source": [
    "If a `Variable` is replaced by `Tensor` through arithmetic operations, it will affect the gradient tape, if `watch` is not used. For example, `x` is incremented below and it changes its type to `Tensor`:"
   ]
  },
  {
   "cell_type": "code",
   "execution_count": 76,
   "id": "562d3074-0296-44f4-8819-fa212507b8a8",
   "metadata": {},
   "outputs": [
    {
     "name": "stdout",
     "output_type": "stream",
     "text": [
      "ResourceVariable: tf.Tensor(6.0, shape=(), dtype=float32)\n",
      "EagerTensor: None\n"
     ]
    }
   ],
   "source": [
    "x = tf.Variable(3.0)\n",
    "\n",
    "for step in range(2):\n",
    "    with tf.GradientTape() as tape:\n",
    "        y = x**2 + 1\n",
    "        \n",
    "    print(f\"{type(x).__name__}:\", tape.gradient(y, x))\n",
    "    x = x + 1    "
   ]
  },
  {
   "cell_type": "markdown",
   "id": "2fe7577f-9c2a-46f9-b552-95db81a0ff72",
   "metadata": {},
   "source": [
    "As you can see above, the type of `x` changes from `ResourceVariable` to `EagerTensor`."
   ]
  },
  {
   "cell_type": "markdown",
   "id": "1961b28a-5cf1-419c-a036-7e0df5cf0a4b",
   "metadata": {},
   "source": [
    "To fix this behaviour, use method `assign_add`:"
   ]
  },
  {
   "cell_type": "code",
   "execution_count": 67,
   "id": "b44afb4b-17b7-45da-b844-786580f71728",
   "metadata": {},
   "outputs": [
    {
     "name": "stdout",
     "output_type": "stream",
     "text": [
      "ResourceVariable tf.Tensor(6.0, shape=(), dtype=float32)\n",
      "ResourceVariable tf.Tensor(8.0, shape=(), dtype=float32)\n"
     ]
    }
   ],
   "source": [
    "x = tf.Variable(3.0)\n",
    "\n",
    "for step in range(2):\n",
    "    with tf.GradientTape() as tape:\n",
    "        y = x**2 + 1\n",
    "        \n",
    "    print(f\"{type(x).__name__}:\", tape.gradient(y, x))\n",
    "    x.assign_add(1.0)"
   ]
  },
  {
   "cell_type": "markdown",
   "id": "b8c7a5d9-8061-4aed-8f0d-63b1fc916c6d",
   "metadata": {},
   "source": [
    "Another solution is to use `watch`:"
   ]
  },
  {
   "cell_type": "code",
   "execution_count": 77,
   "id": "071a7741-1ce7-4f5b-a415-1aee8fe477e8",
   "metadata": {},
   "outputs": [
    {
     "name": "stdout",
     "output_type": "stream",
     "text": [
      "ResourceVariable: tf.Tensor(6.0, shape=(), dtype=float32)\n",
      "EagerTensor: tf.Tensor(8.0, shape=(), dtype=float32)\n"
     ]
    }
   ],
   "source": [
    "x = tf.Variable(3.0)\n",
    "\n",
    "for step in range(2):\n",
    "    with tf.GradientTape() as tape:\n",
    "        tape.watch(x)\n",
    "        y = x**2 + 1\n",
    "        \n",
    "    print(f\"{type(x).__name__}:\", tape.gradient(y, x))\n",
    "    x = x + 1    "
   ]
  },
  {
   "cell_type": "markdown",
   "id": "43811ca9-de31-4c5e-9649-38a767f602f6",
   "metadata": {},
   "source": [
    "But, as you can see, now the type of `x` still changes. However, the gradient is computed correctly."
   ]
  },
  {
   "cell_type": "markdown",
   "id": "2bf86350-98d8-4ab7-9baa-47e6288358fd",
   "metadata": {},
   "source": [
    "### 2. Did calculations outside of TensorFlow"
   ]
  },
  {
   "cell_type": "markdown",
   "id": "863b1280-b81b-4d67-a858-74314679a280",
   "metadata": {},
   "source": [
    "Arithmetic operations should be done by TensorFlow to be properly recorded. If you switch to, say, `numpy` during computations, the gradients will be `None`."
   ]
  },
  {
   "cell_type": "code",
   "execution_count": 78,
   "id": "6212b41d-1d76-443e-8198-f64a2d22f0a7",
   "metadata": {},
   "outputs": [
    {
     "name": "stdout",
     "output_type": "stream",
     "text": [
      "None\n"
     ]
    }
   ],
   "source": [
    "x = tf.Variable(\n",
    "    [[1.0, 2.0],\n",
    "     [3.0, 4.0]],\n",
    "    dtype=tf.float32\n",
    ")\n",
    "\n",
    "with tf.GradientTape() as tape:\n",
    "    x2 = x**2\n",
    "    \n",
    "    y = np.mean(x2, axis=0)\n",
    "    \n",
    "    y = tf.reduce_mean(y, axis=0)\n",
    "    \n",
    "print(tape.gradient(y, x))"
   ]
  },
  {
   "cell_type": "markdown",
   "id": "9a14b32d-8bc1-4bc5-ac59-c1f0f43136c2",
   "metadata": {},
   "source": [
    "### 3. Using integer types accidentally"
   ]
  },
  {
   "cell_type": "code",
   "execution_count": 79,
   "id": "b8c32e46-d6cf-4959-94e3-1695b8eca942",
   "metadata": {},
   "outputs": [
    {
     "name": "stdout",
     "output_type": "stream",
     "text": [
      "WARNING:tensorflow:The dtype of the watched tensor must be floating (e.g. tf.float32), got tf.int32\n",
      "WARNING:tensorflow:The dtype of the target tensor must be floating (e.g. tf.float32) when calling GradientTape.gradient, got tf.int32\n",
      "WARNING:tensorflow:The dtype of the source tensor must be floating (e.g. tf.float32) when calling GradientTape.gradient, got tf.int32\n",
      "None\n"
     ]
    }
   ],
   "source": [
    "x = tf.constant(3)\n",
    "\n",
    "with tf.GradientTape() as tape:\n",
    "    tape.watch(x)\n",
    "    y = x**2\n",
    "    \n",
    "print(tape.gradient(y, x))"
   ]
  },
  {
   "cell_type": "markdown",
   "id": "bc6cbfd5-c866-4821-9db0-f6f0dbbc656d",
   "metadata": {},
   "source": [
    "### 4. Take gradients of stateful objects"
   ]
  },
  {
   "cell_type": "markdown",
   "id": "605bf900-c994-46d3-a753-bb45955790d3",
   "metadata": {},
   "source": [
    "Gradient tape does not record changes of stateful objects, that is, operations like `assign_add` of `Variable`s. Consider an example:"
   ]
  },
  {
   "cell_type": "code",
   "execution_count": 83,
   "id": "a87135eb-3d6c-4fc5-9b65-e2cedf501151",
   "metadata": {},
   "outputs": [
    {
     "name": "stdout",
     "output_type": "stream",
     "text": [
      "[None, <tf.Tensor: shape=(), dtype=float32, numpy=6.0>]\n"
     ]
    }
   ],
   "source": [
    "x1 = tf.Variable(3.0)\n",
    "x2 = tf.Variable(0.0)\n",
    "\n",
    "with tf.GradientTape() as tape:\n",
    "    x2.assign_add(x1)\n",
    "    y = x2**2\n",
    "    \n",
    "print(tape.gradient(y, [x1, x2]))"
   ]
  },
  {
   "cell_type": "markdown",
   "id": "db57f907-48fd-42e8-9efd-b0a1eb78c16a",
   "metadata": {},
   "source": [
    "Note that, although, on paper, y = x1^2, in practice, `y` and `x1` are disconnected as the operation `x2.assign_add(x1)` is not recorde on the gradient tape."
   ]
  },
  {
   "cell_type": "markdown",
   "id": "a30eeb99-df03-44fd-9b13-dfd692576358",
   "metadata": {},
   "source": [
    "## No gradient registered"
   ]
  },
  {
   "cell_type": "markdown",
   "id": "076c47a2-2c14-48b7-a59a-1b2050001913",
   "metadata": {},
   "source": [
    "Some operations in Tensorflow do not implement gradients. For example, `tf.image.adjust_constrast` does not implement a gradient operation. Moreover, in such cases an exception is raised:"
   ]
  },
  {
   "cell_type": "code",
   "execution_count": 84,
   "id": "5f5c6d4d-d958-45c9-9a7a-c35e780fbcea",
   "metadata": {},
   "outputs": [
    {
     "name": "stdout",
     "output_type": "stream",
     "text": [
      "LookupError: gradient registry has no entry for: AdjustContrastv2\n"
     ]
    }
   ],
   "source": [
    "image = tf.Variable([[[0.5, 0.0, 0.0]]])\n",
    "delta = tf.Variable(0.1)\n",
    "\n",
    "with tf.GradientTape() as tape:\n",
    "    new_image = tf.image.adjust_contrast(image, delta)\n",
    "    \n",
    "try:\n",
    "    print(tape.gradient(new_image, [image, delta]))\n",
    "    assert False  # Should not get here\n",
    "except LookupError as e:\n",
    "    print(f\"{type(e).__name__}: {e}\")"
   ]
  },
  {
   "cell_type": "markdown",
   "id": "c40dffa3-2151-4c0c-a0ae-23125a5b9929",
   "metadata": {},
   "source": [
    "## Returning zero instead of `None` for unconnected gradients"
   ]
  },
  {
   "cell_type": "markdown",
   "id": "52486f23-b0d0-4f9d-9713-7d7dafc385ee",
   "metadata": {},
   "source": [
    "Sometimes it is useful to get zero instead of `None` for unconnected gradients.\n",
    "In such cases you can use `unconnected_gradients` argument:"
   ]
  },
  {
   "cell_type": "code",
   "execution_count": 86,
   "id": "a54dbf7b-00ff-4cfe-819a-1b9d6a1e2876",
   "metadata": {},
   "outputs": [
    {
     "name": "stdout",
     "output_type": "stream",
     "text": [
      "tf.Tensor([0. 0.], shape=(2,), dtype=float32)\n"
     ]
    }
   ],
   "source": [
    "x = tf.Variable([2.0, 2.0])\n",
    "y = tf.Variable(3.0)\n",
    "\n",
    "with tf.GradientTape() as tape:\n",
    "    z = y**2\n",
    "    \n",
    "print(tape.gradient(z, x, unconnected_gradients=tf.UnconnectedGradients.ZERO))"
   ]
  },
  {
   "cell_type": "code",
   "execution_count": null,
   "id": "8d2aff9e-204c-4198-bee1-be4e0953fd86",
   "metadata": {},
   "outputs": [],
   "source": []
  }
 ],
 "metadata": {
  "kernelspec": {
   "display_name": "Python 3 (ipykernel)",
   "language": "python",
   "name": "python3"
  },
  "language_info": {
   "codemirror_mode": {
    "name": "ipython",
    "version": 3
   },
   "file_extension": ".py",
   "mimetype": "text/x-python",
   "name": "python",
   "nbconvert_exporter": "python",
   "pygments_lexer": "ipython3",
   "version": "3.9.6"
  }
 },
 "nbformat": 4,
 "nbformat_minor": 5
}
